{
 "cells": [
  {
   "cell_type": "markdown",
   "id": "0fa94279",
   "metadata": {},
   "source": [
    "# Import Libraries"
   ]
  },
  {
   "cell_type": "code",
   "execution_count": 1,
   "id": "bb5e07a0",
   "metadata": {},
   "outputs": [],
   "source": [
    "import pandas as pd\n",
    "import matplotlib.pyplot as plt\n",
    "import numpy as np\n",
    "import seaborn as sns"
   ]
  },
  {
   "cell_type": "code",
   "execution_count": 162,
   "id": "da3b110f",
   "metadata": {},
   "outputs": [],
   "source": [
    "from sklearn.preprocessing import OneHotEncoder,LabelEncoder,StandardScaler\n",
    "from sklearn.model_selection import train_test_split,KFold,GridSearchCV\n",
    "from sklearn.linear_model import LogisticRegression\n",
    "from sklearn.neighbors import KNeighborsClassifier\n",
    "from sklearn.tree import DecisionTreeClassifier\n",
    "from sklearn.ensemble import RandomForestClassifier,VotingClassifier,ExtraTreesClassifier\n",
    "from sklearn.svm import SVC\n",
    "from sklearn.metrics import accuracy_score,confusion_matrix,classification_report"
   ]
  },
  {
   "cell_type": "code",
   "execution_count": 62,
   "id": "ba26e116",
   "metadata": {},
   "outputs": [
    {
     "data": {
      "text/html": [
       "<div>\n",
       "<style scoped>\n",
       "    .dataframe tbody tr th:only-of-type {\n",
       "        vertical-align: middle;\n",
       "    }\n",
       "\n",
       "    .dataframe tbody tr th {\n",
       "        vertical-align: top;\n",
       "    }\n",
       "\n",
       "    .dataframe thead th {\n",
       "        text-align: right;\n",
       "    }\n",
       "</style>\n",
       "<table border=\"1\" class=\"dataframe\">\n",
       "  <thead>\n",
       "    <tr style=\"text-align: right;\">\n",
       "      <th></th>\n",
       "      <th>PassengerId</th>\n",
       "      <th>Survived</th>\n",
       "      <th>Pclass</th>\n",
       "      <th>Name</th>\n",
       "      <th>Sex</th>\n",
       "      <th>Age</th>\n",
       "      <th>SibSp</th>\n",
       "      <th>Parch</th>\n",
       "      <th>Ticket</th>\n",
       "      <th>Fare</th>\n",
       "      <th>Cabin</th>\n",
       "      <th>Embarked</th>\n",
       "    </tr>\n",
       "  </thead>\n",
       "  <tbody>\n",
       "    <tr>\n",
       "      <th>0</th>\n",
       "      <td>1</td>\n",
       "      <td>0</td>\n",
       "      <td>3</td>\n",
       "      <td>Braund, Mr. Owen Harris</td>\n",
       "      <td>male</td>\n",
       "      <td>22.0</td>\n",
       "      <td>1</td>\n",
       "      <td>0</td>\n",
       "      <td>A/5 21171</td>\n",
       "      <td>7.2500</td>\n",
       "      <td>NaN</td>\n",
       "      <td>S</td>\n",
       "    </tr>\n",
       "    <tr>\n",
       "      <th>1</th>\n",
       "      <td>2</td>\n",
       "      <td>1</td>\n",
       "      <td>1</td>\n",
       "      <td>Cumings, Mrs. John Bradley (Florence Briggs Th...</td>\n",
       "      <td>female</td>\n",
       "      <td>38.0</td>\n",
       "      <td>1</td>\n",
       "      <td>0</td>\n",
       "      <td>PC 17599</td>\n",
       "      <td>71.2833</td>\n",
       "      <td>C85</td>\n",
       "      <td>C</td>\n",
       "    </tr>\n",
       "    <tr>\n",
       "      <th>2</th>\n",
       "      <td>3</td>\n",
       "      <td>1</td>\n",
       "      <td>3</td>\n",
       "      <td>Heikkinen, Miss. Laina</td>\n",
       "      <td>female</td>\n",
       "      <td>26.0</td>\n",
       "      <td>0</td>\n",
       "      <td>0</td>\n",
       "      <td>STON/O2. 3101282</td>\n",
       "      <td>7.9250</td>\n",
       "      <td>NaN</td>\n",
       "      <td>S</td>\n",
       "    </tr>\n",
       "    <tr>\n",
       "      <th>3</th>\n",
       "      <td>4</td>\n",
       "      <td>1</td>\n",
       "      <td>1</td>\n",
       "      <td>Futrelle, Mrs. Jacques Heath (Lily May Peel)</td>\n",
       "      <td>female</td>\n",
       "      <td>35.0</td>\n",
       "      <td>1</td>\n",
       "      <td>0</td>\n",
       "      <td>113803</td>\n",
       "      <td>53.1000</td>\n",
       "      <td>C123</td>\n",
       "      <td>S</td>\n",
       "    </tr>\n",
       "    <tr>\n",
       "      <th>4</th>\n",
       "      <td>5</td>\n",
       "      <td>0</td>\n",
       "      <td>3</td>\n",
       "      <td>Allen, Mr. William Henry</td>\n",
       "      <td>male</td>\n",
       "      <td>35.0</td>\n",
       "      <td>0</td>\n",
       "      <td>0</td>\n",
       "      <td>373450</td>\n",
       "      <td>8.0500</td>\n",
       "      <td>NaN</td>\n",
       "      <td>S</td>\n",
       "    </tr>\n",
       "  </tbody>\n",
       "</table>\n",
       "</div>"
      ],
      "text/plain": [
       "   PassengerId  Survived  Pclass  \\\n",
       "0            1         0       3   \n",
       "1            2         1       1   \n",
       "2            3         1       3   \n",
       "3            4         1       1   \n",
       "4            5         0       3   \n",
       "\n",
       "                                                Name     Sex   Age  SibSp  \\\n",
       "0                            Braund, Mr. Owen Harris    male  22.0      1   \n",
       "1  Cumings, Mrs. John Bradley (Florence Briggs Th...  female  38.0      1   \n",
       "2                             Heikkinen, Miss. Laina  female  26.0      0   \n",
       "3       Futrelle, Mrs. Jacques Heath (Lily May Peel)  female  35.0      1   \n",
       "4                           Allen, Mr. William Henry    male  35.0      0   \n",
       "\n",
       "   Parch            Ticket     Fare Cabin Embarked  \n",
       "0      0         A/5 21171   7.2500   NaN        S  \n",
       "1      0          PC 17599  71.2833   C85        C  \n",
       "2      0  STON/O2. 3101282   7.9250   NaN        S  \n",
       "3      0            113803  53.1000  C123        S  \n",
       "4      0            373450   8.0500   NaN        S  "
      ]
     },
     "execution_count": 62,
     "metadata": {},
     "output_type": "execute_result"
    }
   ],
   "source": [
    "df = pd.read_csv(\"D:\\\\Programming\\\\Machine Learning\\\\Projects\\\\Survival rate prediction - titanic dataset\\\\train.csv\")\n",
    "df.head()"
   ]
  },
  {
   "cell_type": "markdown",
   "id": "29bbd36a",
   "metadata": {},
   "source": [
    "# Preprocessing"
   ]
  },
  {
   "cell_type": "markdown",
   "id": "a6a6ba2e",
   "metadata": {},
   "source": [
    "### Handling Missing Values and Droping unrelavent data"
   ]
  },
  {
   "cell_type": "code",
   "execution_count": 63,
   "id": "2bed91a1",
   "metadata": {},
   "outputs": [
    {
     "data": {
      "text/plain": [
       "(891, 12)"
      ]
     },
     "execution_count": 63,
     "metadata": {},
     "output_type": "execute_result"
    }
   ],
   "source": [
    "df.shape"
   ]
  },
  {
   "cell_type": "markdown",
   "id": "bd0dda22",
   "metadata": {},
   "source": [
    "Remove Cabin, Tickets,passengerId and Name columns"
   ]
  },
  {
   "cell_type": "code",
   "execution_count": 64,
   "id": "dc1c4f77",
   "metadata": {},
   "outputs": [
    {
     "data": {
      "text/html": [
       "<div>\n",
       "<style scoped>\n",
       "    .dataframe tbody tr th:only-of-type {\n",
       "        vertical-align: middle;\n",
       "    }\n",
       "\n",
       "    .dataframe tbody tr th {\n",
       "        vertical-align: top;\n",
       "    }\n",
       "\n",
       "    .dataframe thead th {\n",
       "        text-align: right;\n",
       "    }\n",
       "</style>\n",
       "<table border=\"1\" class=\"dataframe\">\n",
       "  <thead>\n",
       "    <tr style=\"text-align: right;\">\n",
       "      <th></th>\n",
       "      <th>Survived</th>\n",
       "      <th>Pclass</th>\n",
       "      <th>Sex</th>\n",
       "      <th>Age</th>\n",
       "      <th>SibSp</th>\n",
       "      <th>Parch</th>\n",
       "      <th>Fare</th>\n",
       "      <th>Embarked</th>\n",
       "    </tr>\n",
       "  </thead>\n",
       "  <tbody>\n",
       "    <tr>\n",
       "      <th>0</th>\n",
       "      <td>0</td>\n",
       "      <td>3</td>\n",
       "      <td>male</td>\n",
       "      <td>22.0</td>\n",
       "      <td>1</td>\n",
       "      <td>0</td>\n",
       "      <td>7.2500</td>\n",
       "      <td>S</td>\n",
       "    </tr>\n",
       "    <tr>\n",
       "      <th>1</th>\n",
       "      <td>1</td>\n",
       "      <td>1</td>\n",
       "      <td>female</td>\n",
       "      <td>38.0</td>\n",
       "      <td>1</td>\n",
       "      <td>0</td>\n",
       "      <td>71.2833</td>\n",
       "      <td>C</td>\n",
       "    </tr>\n",
       "    <tr>\n",
       "      <th>2</th>\n",
       "      <td>1</td>\n",
       "      <td>3</td>\n",
       "      <td>female</td>\n",
       "      <td>26.0</td>\n",
       "      <td>0</td>\n",
       "      <td>0</td>\n",
       "      <td>7.9250</td>\n",
       "      <td>S</td>\n",
       "    </tr>\n",
       "    <tr>\n",
       "      <th>3</th>\n",
       "      <td>1</td>\n",
       "      <td>1</td>\n",
       "      <td>female</td>\n",
       "      <td>35.0</td>\n",
       "      <td>1</td>\n",
       "      <td>0</td>\n",
       "      <td>53.1000</td>\n",
       "      <td>S</td>\n",
       "    </tr>\n",
       "    <tr>\n",
       "      <th>4</th>\n",
       "      <td>0</td>\n",
       "      <td>3</td>\n",
       "      <td>male</td>\n",
       "      <td>35.0</td>\n",
       "      <td>0</td>\n",
       "      <td>0</td>\n",
       "      <td>8.0500</td>\n",
       "      <td>S</td>\n",
       "    </tr>\n",
       "  </tbody>\n",
       "</table>\n",
       "</div>"
      ],
      "text/plain": [
       "   Survived  Pclass     Sex   Age  SibSp  Parch     Fare Embarked\n",
       "0         0       3    male  22.0      1      0   7.2500        S\n",
       "1         1       1  female  38.0      1      0  71.2833        C\n",
       "2         1       3  female  26.0      0      0   7.9250        S\n",
       "3         1       1  female  35.0      1      0  53.1000        S\n",
       "4         0       3    male  35.0      0      0   8.0500        S"
      ]
     },
     "execution_count": 64,
     "metadata": {},
     "output_type": "execute_result"
    }
   ],
   "source": [
    "df.drop([\"PassengerId\",\"Name\",\"Ticket\",\"Cabin\"],inplace=True,axis=1)\n",
    "df.head()"
   ]
  },
  {
   "cell_type": "code",
   "execution_count": 65,
   "id": "a7dda661",
   "metadata": {},
   "outputs": [
    {
     "data": {
      "text/plain": [
       "Survived      0\n",
       "Pclass        0\n",
       "Sex           0\n",
       "Age         177\n",
       "SibSp         0\n",
       "Parch         0\n",
       "Fare          0\n",
       "Embarked      2\n",
       "dtype: int64"
      ]
     },
     "execution_count": 65,
     "metadata": {},
     "output_type": "execute_result"
    }
   ],
   "source": [
    "df.isnull().sum()"
   ]
  },
  {
   "cell_type": "code",
   "execution_count": 66,
   "id": "1b9d0d90",
   "metadata": {},
   "outputs": [],
   "source": [
    "df[\"Age\"] = df[\"Age\"].fillna(int(df[\"Age\"].mean()))"
   ]
  },
  {
   "cell_type": "code",
   "execution_count": 67,
   "id": "39b33dac",
   "metadata": {},
   "outputs": [
    {
     "data": {
      "text/plain": [
       "Embarked\n",
       "S    644\n",
       "C    168\n",
       "Q     77\n",
       "Name: count, dtype: int64"
      ]
     },
     "execution_count": 67,
     "metadata": {},
     "output_type": "execute_result"
    }
   ],
   "source": [
    "df[\"Embarked\"].value_counts()"
   ]
  },
  {
   "cell_type": "code",
   "execution_count": 68,
   "id": "c599ea55",
   "metadata": {},
   "outputs": [],
   "source": [
    "df[\"Embarked\"] = df[\"Embarked\"].fillna(\"S\")"
   ]
  },
  {
   "cell_type": "code",
   "execution_count": 69,
   "id": "c3df2a44",
   "metadata": {},
   "outputs": [
    {
     "data": {
      "text/html": [
       "<div>\n",
       "<style scoped>\n",
       "    .dataframe tbody tr th:only-of-type {\n",
       "        vertical-align: middle;\n",
       "    }\n",
       "\n",
       "    .dataframe tbody tr th {\n",
       "        vertical-align: top;\n",
       "    }\n",
       "\n",
       "    .dataframe thead th {\n",
       "        text-align: right;\n",
       "    }\n",
       "</style>\n",
       "<table border=\"1\" class=\"dataframe\">\n",
       "  <thead>\n",
       "    <tr style=\"text-align: right;\">\n",
       "      <th></th>\n",
       "      <th>Survived</th>\n",
       "      <th>Pclass</th>\n",
       "      <th>Sex</th>\n",
       "      <th>Age</th>\n",
       "      <th>SibSp</th>\n",
       "      <th>Parch</th>\n",
       "      <th>Fare</th>\n",
       "      <th>Embarked</th>\n",
       "    </tr>\n",
       "  </thead>\n",
       "  <tbody>\n",
       "    <tr>\n",
       "      <th>0</th>\n",
       "      <td>0</td>\n",
       "      <td>3</td>\n",
       "      <td>male</td>\n",
       "      <td>22.0</td>\n",
       "      <td>1</td>\n",
       "      <td>0</td>\n",
       "      <td>7.2500</td>\n",
       "      <td>S</td>\n",
       "    </tr>\n",
       "    <tr>\n",
       "      <th>1</th>\n",
       "      <td>1</td>\n",
       "      <td>1</td>\n",
       "      <td>female</td>\n",
       "      <td>38.0</td>\n",
       "      <td>1</td>\n",
       "      <td>0</td>\n",
       "      <td>71.2833</td>\n",
       "      <td>C</td>\n",
       "    </tr>\n",
       "    <tr>\n",
       "      <th>2</th>\n",
       "      <td>1</td>\n",
       "      <td>3</td>\n",
       "      <td>female</td>\n",
       "      <td>26.0</td>\n",
       "      <td>0</td>\n",
       "      <td>0</td>\n",
       "      <td>7.9250</td>\n",
       "      <td>S</td>\n",
       "    </tr>\n",
       "    <tr>\n",
       "      <th>3</th>\n",
       "      <td>1</td>\n",
       "      <td>1</td>\n",
       "      <td>female</td>\n",
       "      <td>35.0</td>\n",
       "      <td>1</td>\n",
       "      <td>0</td>\n",
       "      <td>53.1000</td>\n",
       "      <td>S</td>\n",
       "    </tr>\n",
       "    <tr>\n",
       "      <th>4</th>\n",
       "      <td>0</td>\n",
       "      <td>3</td>\n",
       "      <td>male</td>\n",
       "      <td>35.0</td>\n",
       "      <td>0</td>\n",
       "      <td>0</td>\n",
       "      <td>8.0500</td>\n",
       "      <td>S</td>\n",
       "    </tr>\n",
       "  </tbody>\n",
       "</table>\n",
       "</div>"
      ],
      "text/plain": [
       "   Survived  Pclass     Sex   Age  SibSp  Parch     Fare Embarked\n",
       "0         0       3    male  22.0      1      0   7.2500        S\n",
       "1         1       1  female  38.0      1      0  71.2833        C\n",
       "2         1       3  female  26.0      0      0   7.9250        S\n",
       "3         1       1  female  35.0      1      0  53.1000        S\n",
       "4         0       3    male  35.0      0      0   8.0500        S"
      ]
     },
     "execution_count": 69,
     "metadata": {},
     "output_type": "execute_result"
    }
   ],
   "source": [
    "df.head()"
   ]
  },
  {
   "cell_type": "code",
   "execution_count": 70,
   "id": "4fd2a48c",
   "metadata": {},
   "outputs": [
    {
     "data": {
      "text/plain": [
       "Survived    0\n",
       "Pclass      0\n",
       "Sex         0\n",
       "Age         0\n",
       "SibSp       0\n",
       "Parch       0\n",
       "Fare        0\n",
       "Embarked    0\n",
       "dtype: int64"
      ]
     },
     "execution_count": 70,
     "metadata": {},
     "output_type": "execute_result"
    }
   ],
   "source": [
    "df.isnull().sum()"
   ]
  },
  {
   "cell_type": "markdown",
   "id": "f3a55f31",
   "metadata": {},
   "source": [
    "### Encode with LabelEncoder and OneHotEncoder "
   ]
  },
  {
   "cell_type": "code",
   "execution_count": 71,
   "id": "e4b37c5d",
   "metadata": {},
   "outputs": [],
   "source": [
    "le = LabelEncoder()"
   ]
  },
  {
   "cell_type": "code",
   "execution_count": 72,
   "id": "a811e72f",
   "metadata": {},
   "outputs": [],
   "source": [
    "df[\"Sex\"] = le.fit_transform(df[\"Sex\"])"
   ]
  },
  {
   "cell_type": "code",
   "execution_count": 73,
   "id": "6e60ebd3",
   "metadata": {},
   "outputs": [],
   "source": [
    "ohe = OneHotEncoder(sparse=False)"
   ]
  },
  {
   "cell_type": "code",
   "execution_count": 74,
   "id": "45100393",
   "metadata": {},
   "outputs": [
    {
     "name": "stderr",
     "output_type": "stream",
     "text": [
      "C:\\Users\\user\\anaconda3\\Lib\\site-packages\\sklearn\\preprocessing\\_encoders.py:972: FutureWarning: `sparse` was renamed to `sparse_output` in version 1.2 and will be removed in 1.4. `sparse_output` is ignored unless you leave `sparse` to its default value.\n",
      "  warnings.warn(\n"
     ]
    }
   ],
   "source": [
    "hot_encoded_df = ohe.fit_transform(df[[\"Embarked\"]])"
   ]
  },
  {
   "cell_type": "markdown",
   "id": "01753ce2",
   "metadata": {},
   "source": [
    "### Important : Convert the one-hot encoded data to a DataFrame"
   ]
  },
  {
   "cell_type": "code",
   "execution_count": 75,
   "id": "58b50efe",
   "metadata": {},
   "outputs": [
    {
     "data": {
      "text/plain": [
       "array(['Embarked_C', 'Embarked_Q', 'Embarked_S'], dtype=object)"
      ]
     },
     "execution_count": 75,
     "metadata": {},
     "output_type": "execute_result"
    }
   ],
   "source": [
    "ohe.get_feature_names_out()"
   ]
  },
  {
   "cell_type": "code",
   "execution_count": 76,
   "id": "92bb4823",
   "metadata": {},
   "outputs": [],
   "source": [
    "encoded_df = pd.DataFrame(hot_encoded_df, columns=ohe.get_feature_names_out(input_features=['Embarked']))"
   ]
  },
  {
   "cell_type": "code",
   "execution_count": 77,
   "id": "71c51e52",
   "metadata": {},
   "outputs": [
    {
     "data": {
      "text/html": [
       "<div>\n",
       "<style scoped>\n",
       "    .dataframe tbody tr th:only-of-type {\n",
       "        vertical-align: middle;\n",
       "    }\n",
       "\n",
       "    .dataframe tbody tr th {\n",
       "        vertical-align: top;\n",
       "    }\n",
       "\n",
       "    .dataframe thead th {\n",
       "        text-align: right;\n",
       "    }\n",
       "</style>\n",
       "<table border=\"1\" class=\"dataframe\">\n",
       "  <thead>\n",
       "    <tr style=\"text-align: right;\">\n",
       "      <th></th>\n",
       "      <th>Survived</th>\n",
       "      <th>Pclass</th>\n",
       "      <th>Sex</th>\n",
       "      <th>Age</th>\n",
       "      <th>SibSp</th>\n",
       "      <th>Parch</th>\n",
       "      <th>Fare</th>\n",
       "      <th>Embarked</th>\n",
       "      <th>Embarked_C</th>\n",
       "      <th>Embarked_Q</th>\n",
       "      <th>Embarked_S</th>\n",
       "    </tr>\n",
       "  </thead>\n",
       "  <tbody>\n",
       "    <tr>\n",
       "      <th>0</th>\n",
       "      <td>0</td>\n",
       "      <td>3</td>\n",
       "      <td>1</td>\n",
       "      <td>22.0</td>\n",
       "      <td>1</td>\n",
       "      <td>0</td>\n",
       "      <td>7.2500</td>\n",
       "      <td>S</td>\n",
       "      <td>0.0</td>\n",
       "      <td>0.0</td>\n",
       "      <td>1.0</td>\n",
       "    </tr>\n",
       "    <tr>\n",
       "      <th>1</th>\n",
       "      <td>1</td>\n",
       "      <td>1</td>\n",
       "      <td>0</td>\n",
       "      <td>38.0</td>\n",
       "      <td>1</td>\n",
       "      <td>0</td>\n",
       "      <td>71.2833</td>\n",
       "      <td>C</td>\n",
       "      <td>1.0</td>\n",
       "      <td>0.0</td>\n",
       "      <td>0.0</td>\n",
       "    </tr>\n",
       "    <tr>\n",
       "      <th>2</th>\n",
       "      <td>1</td>\n",
       "      <td>3</td>\n",
       "      <td>0</td>\n",
       "      <td>26.0</td>\n",
       "      <td>0</td>\n",
       "      <td>0</td>\n",
       "      <td>7.9250</td>\n",
       "      <td>S</td>\n",
       "      <td>0.0</td>\n",
       "      <td>0.0</td>\n",
       "      <td>1.0</td>\n",
       "    </tr>\n",
       "    <tr>\n",
       "      <th>3</th>\n",
       "      <td>1</td>\n",
       "      <td>1</td>\n",
       "      <td>0</td>\n",
       "      <td>35.0</td>\n",
       "      <td>1</td>\n",
       "      <td>0</td>\n",
       "      <td>53.1000</td>\n",
       "      <td>S</td>\n",
       "      <td>0.0</td>\n",
       "      <td>0.0</td>\n",
       "      <td>1.0</td>\n",
       "    </tr>\n",
       "    <tr>\n",
       "      <th>4</th>\n",
       "      <td>0</td>\n",
       "      <td>3</td>\n",
       "      <td>1</td>\n",
       "      <td>35.0</td>\n",
       "      <td>0</td>\n",
       "      <td>0</td>\n",
       "      <td>8.0500</td>\n",
       "      <td>S</td>\n",
       "      <td>0.0</td>\n",
       "      <td>0.0</td>\n",
       "      <td>1.0</td>\n",
       "    </tr>\n",
       "  </tbody>\n",
       "</table>\n",
       "</div>"
      ],
      "text/plain": [
       "   Survived  Pclass  Sex   Age  SibSp  Parch     Fare Embarked  Embarked_C  \\\n",
       "0         0       3    1  22.0      1      0   7.2500        S         0.0   \n",
       "1         1       1    0  38.0      1      0  71.2833        C         1.0   \n",
       "2         1       3    0  26.0      0      0   7.9250        S         0.0   \n",
       "3         1       1    0  35.0      1      0  53.1000        S         0.0   \n",
       "4         0       3    1  35.0      0      0   8.0500        S         0.0   \n",
       "\n",
       "   Embarked_Q  Embarked_S  \n",
       "0         0.0         1.0  \n",
       "1         0.0         0.0  \n",
       "2         0.0         1.0  \n",
       "3         0.0         1.0  \n",
       "4         0.0         1.0  "
      ]
     },
     "execution_count": 77,
     "metadata": {},
     "output_type": "execute_result"
    }
   ],
   "source": [
    "df = pd.concat([df,encoded_df],axis=1)\n",
    "df.head()"
   ]
  },
  {
   "cell_type": "code",
   "execution_count": 78,
   "id": "67231d40",
   "metadata": {},
   "outputs": [
    {
     "data": {
      "text/html": [
       "<div>\n",
       "<style scoped>\n",
       "    .dataframe tbody tr th:only-of-type {\n",
       "        vertical-align: middle;\n",
       "    }\n",
       "\n",
       "    .dataframe tbody tr th {\n",
       "        vertical-align: top;\n",
       "    }\n",
       "\n",
       "    .dataframe thead th {\n",
       "        text-align: right;\n",
       "    }\n",
       "</style>\n",
       "<table border=\"1\" class=\"dataframe\">\n",
       "  <thead>\n",
       "    <tr style=\"text-align: right;\">\n",
       "      <th></th>\n",
       "      <th>Survived</th>\n",
       "      <th>Pclass</th>\n",
       "      <th>Sex</th>\n",
       "      <th>Age</th>\n",
       "      <th>SibSp</th>\n",
       "      <th>Parch</th>\n",
       "      <th>Fare</th>\n",
       "      <th>Embarked_C</th>\n",
       "      <th>Embarked_Q</th>\n",
       "    </tr>\n",
       "  </thead>\n",
       "  <tbody>\n",
       "    <tr>\n",
       "      <th>0</th>\n",
       "      <td>0</td>\n",
       "      <td>3</td>\n",
       "      <td>1</td>\n",
       "      <td>22.0</td>\n",
       "      <td>1</td>\n",
       "      <td>0</td>\n",
       "      <td>7.2500</td>\n",
       "      <td>0.0</td>\n",
       "      <td>0.0</td>\n",
       "    </tr>\n",
       "    <tr>\n",
       "      <th>1</th>\n",
       "      <td>1</td>\n",
       "      <td>1</td>\n",
       "      <td>0</td>\n",
       "      <td>38.0</td>\n",
       "      <td>1</td>\n",
       "      <td>0</td>\n",
       "      <td>71.2833</td>\n",
       "      <td>1.0</td>\n",
       "      <td>0.0</td>\n",
       "    </tr>\n",
       "    <tr>\n",
       "      <th>2</th>\n",
       "      <td>1</td>\n",
       "      <td>3</td>\n",
       "      <td>0</td>\n",
       "      <td>26.0</td>\n",
       "      <td>0</td>\n",
       "      <td>0</td>\n",
       "      <td>7.9250</td>\n",
       "      <td>0.0</td>\n",
       "      <td>0.0</td>\n",
       "    </tr>\n",
       "    <tr>\n",
       "      <th>3</th>\n",
       "      <td>1</td>\n",
       "      <td>1</td>\n",
       "      <td>0</td>\n",
       "      <td>35.0</td>\n",
       "      <td>1</td>\n",
       "      <td>0</td>\n",
       "      <td>53.1000</td>\n",
       "      <td>0.0</td>\n",
       "      <td>0.0</td>\n",
       "    </tr>\n",
       "    <tr>\n",
       "      <th>4</th>\n",
       "      <td>0</td>\n",
       "      <td>3</td>\n",
       "      <td>1</td>\n",
       "      <td>35.0</td>\n",
       "      <td>0</td>\n",
       "      <td>0</td>\n",
       "      <td>8.0500</td>\n",
       "      <td>0.0</td>\n",
       "      <td>0.0</td>\n",
       "    </tr>\n",
       "  </tbody>\n",
       "</table>\n",
       "</div>"
      ],
      "text/plain": [
       "   Survived  Pclass  Sex   Age  SibSp  Parch     Fare  Embarked_C  Embarked_Q\n",
       "0         0       3    1  22.0      1      0   7.2500         0.0         0.0\n",
       "1         1       1    0  38.0      1      0  71.2833         1.0         0.0\n",
       "2         1       3    0  26.0      0      0   7.9250         0.0         0.0\n",
       "3         1       1    0  35.0      1      0  53.1000         0.0         0.0\n",
       "4         0       3    1  35.0      0      0   8.0500         0.0         0.0"
      ]
     },
     "execution_count": 78,
     "metadata": {},
     "output_type": "execute_result"
    }
   ],
   "source": [
    "df.drop([\"Embarked\",\"Embarked_S\"],inplace=True,axis=1)\n",
    "df.head()"
   ]
  },
  {
   "cell_type": "markdown",
   "id": "87890e32",
   "metadata": {},
   "source": [
    "## Reindex Columns"
   ]
  },
  {
   "cell_type": "code",
   "execution_count": 89,
   "id": "f58345fb",
   "metadata": {},
   "outputs": [
    {
     "data": {
      "text/plain": [
       "['Pclass',\n",
       " 'Sex',\n",
       " 'Age',\n",
       " 'SibSp',\n",
       " 'Parch',\n",
       " 'Fare',\n",
       " 'Embarked_C',\n",
       " 'Embarked_Q',\n",
       " 'Survived']"
      ]
     },
     "execution_count": 89,
     "metadata": {},
     "output_type": "execute_result"
    }
   ],
   "source": [
    "col_names = df.columns.to_list()\n",
    "new_idx_labels = col_names[1:]+[col_names[0]]\n",
    "new_idx_labels"
   ]
  },
  {
   "cell_type": "code",
   "execution_count": 90,
   "id": "08c1a1ce",
   "metadata": {},
   "outputs": [
    {
     "data": {
      "text/html": [
       "<div>\n",
       "<style scoped>\n",
       "    .dataframe tbody tr th:only-of-type {\n",
       "        vertical-align: middle;\n",
       "    }\n",
       "\n",
       "    .dataframe tbody tr th {\n",
       "        vertical-align: top;\n",
       "    }\n",
       "\n",
       "    .dataframe thead th {\n",
       "        text-align: right;\n",
       "    }\n",
       "</style>\n",
       "<table border=\"1\" class=\"dataframe\">\n",
       "  <thead>\n",
       "    <tr style=\"text-align: right;\">\n",
       "      <th></th>\n",
       "      <th>Pclass</th>\n",
       "      <th>Sex</th>\n",
       "      <th>Age</th>\n",
       "      <th>SibSp</th>\n",
       "      <th>Parch</th>\n",
       "      <th>Fare</th>\n",
       "      <th>Embarked_C</th>\n",
       "      <th>Embarked_Q</th>\n",
       "      <th>Survived</th>\n",
       "    </tr>\n",
       "  </thead>\n",
       "  <tbody>\n",
       "    <tr>\n",
       "      <th>0</th>\n",
       "      <td>3</td>\n",
       "      <td>1</td>\n",
       "      <td>22.0</td>\n",
       "      <td>1</td>\n",
       "      <td>0</td>\n",
       "      <td>7.2500</td>\n",
       "      <td>0.0</td>\n",
       "      <td>0.0</td>\n",
       "      <td>0</td>\n",
       "    </tr>\n",
       "    <tr>\n",
       "      <th>1</th>\n",
       "      <td>1</td>\n",
       "      <td>0</td>\n",
       "      <td>38.0</td>\n",
       "      <td>1</td>\n",
       "      <td>0</td>\n",
       "      <td>71.2833</td>\n",
       "      <td>1.0</td>\n",
       "      <td>0.0</td>\n",
       "      <td>1</td>\n",
       "    </tr>\n",
       "    <tr>\n",
       "      <th>2</th>\n",
       "      <td>3</td>\n",
       "      <td>0</td>\n",
       "      <td>26.0</td>\n",
       "      <td>0</td>\n",
       "      <td>0</td>\n",
       "      <td>7.9250</td>\n",
       "      <td>0.0</td>\n",
       "      <td>0.0</td>\n",
       "      <td>1</td>\n",
       "    </tr>\n",
       "    <tr>\n",
       "      <th>3</th>\n",
       "      <td>1</td>\n",
       "      <td>0</td>\n",
       "      <td>35.0</td>\n",
       "      <td>1</td>\n",
       "      <td>0</td>\n",
       "      <td>53.1000</td>\n",
       "      <td>0.0</td>\n",
       "      <td>0.0</td>\n",
       "      <td>1</td>\n",
       "    </tr>\n",
       "    <tr>\n",
       "      <th>4</th>\n",
       "      <td>3</td>\n",
       "      <td>1</td>\n",
       "      <td>35.0</td>\n",
       "      <td>0</td>\n",
       "      <td>0</td>\n",
       "      <td>8.0500</td>\n",
       "      <td>0.0</td>\n",
       "      <td>0.0</td>\n",
       "      <td>0</td>\n",
       "    </tr>\n",
       "  </tbody>\n",
       "</table>\n",
       "</div>"
      ],
      "text/plain": [
       "   Pclass  Sex   Age  SibSp  Parch     Fare  Embarked_C  Embarked_Q  Survived\n",
       "0       3    1  22.0      1      0   7.2500         0.0         0.0         0\n",
       "1       1    0  38.0      1      0  71.2833         1.0         0.0         1\n",
       "2       3    0  26.0      0      0   7.9250         0.0         0.0         1\n",
       "3       1    0  35.0      1      0  53.1000         0.0         0.0         1\n",
       "4       3    1  35.0      0      0   8.0500         0.0         0.0         0"
      ]
     },
     "execution_count": 90,
     "metadata": {},
     "output_type": "execute_result"
    }
   ],
   "source": [
    "df_reordered= df[new_idx_labels]\n",
    "df_reordered.head()"
   ]
  },
  {
   "cell_type": "markdown",
   "id": "ec987b75",
   "metadata": {},
   "source": [
    "# Visualization"
   ]
  },
  {
   "cell_type": "code",
   "execution_count": 91,
   "id": "3b9d14d6",
   "metadata": {},
   "outputs": [
    {
     "name": "stderr",
     "output_type": "stream",
     "text": [
      "C:\\Users\\user\\anaconda3\\Lib\\site-packages\\seaborn\\axisgrid.py:118: UserWarning: The figure layout has changed to tight\n",
      "  self._figure.tight_layout(*args, **kwargs)\n",
      "C:\\Users\\user\\AppData\\Local\\Temp\\ipykernel_14072\\2418460452.py:3: UserWarning: The figure layout has changed to tight\n",
      "  plt.tight_layout()\n"
     ]
    },
    {
     "data": {
      "text/plain": [
       "<Figure size 640x480 with 0 Axes>"
      ]
     },
     "metadata": {},
     "output_type": "display_data"
    },
    {
     "data": {
      "image/png": "[encoded data removed]",
      "text/plain": [
       "<Figure size 2250x2250 with 90 Axes>"
      ]
     },
     "metadata": {},
     "output_type": "display_data"
    }
   ],
   "source": [
    "plt.figure()\n",
    "sns.pairplot(df_reordered)\n",
    "plt.tight_layout()\n",
    "plt.show()"
   ]
  },
  {
   "cell_type": "markdown",
   "id": "a0fcee22",
   "metadata": {},
   "source": [
    "# Data Preperation"
   ]
  },
  {
   "cell_type": "code",
   "execution_count": 110,
   "id": "f10de0e1",
   "metadata": {},
   "outputs": [],
   "source": [
    "X = df_reordered.iloc[:,:len(df_reordered.columns)-1].values\n",
    "y = df_reordered.iloc[:,len(df_reordered.columns)-1].values"
   ]
  },
  {
   "cell_type": "code",
   "execution_count": 112,
   "id": "2c509606",
   "metadata": {},
   "outputs": [],
   "source": [
    "X_train,X_test,y_train,y_test = train_test_split(X,y,test_size=0.2,random_state=0)"
   ]
  },
  {
   "cell_type": "markdown",
   "id": "1d700263",
   "metadata": {},
   "source": [
    "# Machine Learning Model Implementataion"
   ]
  },
  {
   "cell_type": "code",
   "execution_count": 145,
   "id": "344fe366",
   "metadata": {},
   "outputs": [],
   "source": [
    "Accuracy_of_each_model = {}"
   ]
  },
  {
   "cell_type": "markdown",
   "id": "6e65a4ca",
   "metadata": {},
   "source": [
    "## 1. Logistic Regression"
   ]
  },
  {
   "cell_type": "code",
   "execution_count": 146,
   "id": "d393968a",
   "metadata": {},
   "outputs": [
    {
     "name": "stderr",
     "output_type": "stream",
     "text": [
      "C:\\Users\\user\\anaconda3\\Lib\\site-packages\\sklearn\\linear_model\\_logistic.py:460: ConvergenceWarning: lbfgs failed to converge (status=1):\n",
      "STOP: TOTAL NO. of ITERATIONS REACHED LIMIT.\n",
      "\n",
      "Increase the number of iterations (max_iter) or scale the data as shown in:\n",
      "    https://scikit-learn.org/stable/modules/preprocessing.html\n",
      "Please also refer to the documentation for alternative solver options:\n",
      "    https://scikit-learn.org/stable/modules/linear_model.html#logistic-regression\n",
      "  n_iter_i = _check_optimize_result(\n"
     ]
    },
    {
     "data": {
      "text/html": [
       "<style>#sk-container-id-8 {color: black;}#sk-container-id-8 pre{padding: 0;}#sk-container-id-8 div.sk-toggleable {background-color: white;}#sk-container-id-8 label.sk-toggleable__label {cursor: pointer;display: block;width: 100%;margin-bottom: 0;padding: 0.3em;box-sizing: border-box;text-align: center;}#sk-container-id-8 label.sk-toggleable__label-arrow:before {content: \"▸\";float: left;margin-right: 0.25em;color: #696969;}#sk-container-id-8 label.sk-toggleable__label-arrow:hover:before {color: black;}#sk-container-id-8 div.sk-estimator:hover label.sk-toggleable__label-arrow:before {color: black;}#sk-container-id-8 div.sk-toggleable__content {max-height: 0;max-width: 0;overflow: hidden;text-align: left;background-color: #f0f8ff;}#sk-container-id-8 div.sk-toggleable__content pre {margin: 0.2em;color: black;border-radius: 0.25em;background-color: #f0f8ff;}#sk-container-id-8 input.sk-toggleable__control:checked~div.sk-toggleable__content {max-height: 200px;max-width: 100%;overflow: auto;}#sk-container-id-8 input.sk-toggleable__control:checked~label.sk-toggleable__label-arrow:before {content: \"▾\";}#sk-container-id-8 div.sk-estimator input.sk-toggleable__control:checked~label.sk-toggleable__label {background-color: #d4ebff;}#sk-container-id-8 div.sk-label input.sk-toggleable__control:checked~label.sk-toggleable__label {background-color: #d4ebff;}#sk-container-id-8 input.sk-hidden--visually {border: 0;clip: rect(1px 1px 1px 1px);clip: rect(1px, 1px, 1px, 1px);height: 1px;margin: -1px;overflow: hidden;padding: 0;position: absolute;width: 1px;}#sk-container-id-8 div.sk-estimator {font-family: monospace;background-color: #f0f8ff;border: 1px dotted black;border-radius: 0.25em;box-sizing: border-box;margin-bottom: 0.5em;}#sk-container-id-8 div.sk-estimator:hover {background-color: #d4ebff;}#sk-container-id-8 div.sk-parallel-item::after {content: \"\";width: 100%;border-bottom: 1px solid gray;flex-grow: 1;}#sk-container-id-8 div.sk-label:hover label.sk-toggleable__label {background-color: #d4ebff;}#sk-container-id-8 div.sk-serial::before {content: \"\";position: absolute;border-left: 1px solid gray;box-sizing: border-box;top: 0;bottom: 0;left: 50%;z-index: 0;}#sk-container-id-8 div.sk-serial {display: flex;flex-direction: column;align-items: center;background-color: white;padding-right: 0.2em;padding-left: 0.2em;position: relative;}#sk-container-id-8 div.sk-item {position: relative;z-index: 1;}#sk-container-id-8 div.sk-parallel {display: flex;align-items: stretch;justify-content: center;background-color: white;position: relative;}#sk-container-id-8 div.sk-item::before, #sk-container-id-8 div.sk-parallel-item::before {content: \"\";position: absolute;border-left: 1px solid gray;box-sizing: border-box;top: 0;bottom: 0;left: 50%;z-index: -1;}#sk-container-id-8 div.sk-parallel-item {display: flex;flex-direction: column;z-index: 1;position: relative;background-color: white;}#sk-container-id-8 div.sk-parallel-item:first-child::after {align-self: flex-end;width: 50%;}#sk-container-id-8 div.sk-parallel-item:last-child::after {align-self: flex-start;width: 50%;}#sk-container-id-8 div.sk-parallel-item:only-child::after {width: 0;}#sk-container-id-8 div.sk-dashed-wrapped {border: 1px dashed gray;margin: 0 0.4em 0.5em 0.4em;box-sizing: border-box;padding-bottom: 0.4em;background-color: white;}#sk-container-id-8 div.sk-label label {font-family: monospace;font-weight: bold;display: inline-block;line-height: 1.2em;}#sk-container-id-8 div.sk-label-container {text-align: center;}#sk-container-id-8 div.sk-container {/* jupyter's `normalize.less` sets `[hidden] { display: none; }` but bootstrap.min.css set `[hidden] { display: none !important; }` so we also need the `!important` here to be able to override the default hidden behavior on the sphinx rendered scikit-learn.org. See: https://github.com/scikit-learn/scikit-learn/issues/21755 */display: inline-block !important;position: relative;}#sk-container-id-8 div.sk-text-repr-fallback {display: none;}</style><div id=\"sk-container-id-8\" class=\"sk-top-container\"><div class=\"sk-text-repr-fallback\"><pre>LogisticRegression()</pre><b>In a Jupyter environment, please rerun this cell to show the HTML representation or trust the notebook. <br />On GitHub, the HTML representation is unable to render, please try loading this page with nbviewer.org.</b></div><div class=\"sk-container\" hidden><div class=\"sk-item\"><div class=\"sk-estimator sk-toggleable\"><input class=\"sk-toggleable__control sk-hidden--visually\" id=\"sk-estimator-id-8\" type=\"checkbox\" checked><label for=\"sk-estimator-id-8\" class=\"sk-toggleable__label sk-toggleable__label-arrow\">LogisticRegression</label><div class=\"sk-toggleable__content\"><pre>LogisticRegression()</pre></div></div></div></div></div>"
      ],
      "text/plain": [
       "LogisticRegression()"
      ]
     },
     "execution_count": 146,
     "metadata": {},
     "output_type": "execute_result"
    }
   ],
   "source": [
    "# Create a logistic regression model\n",
    "logistic_model = LogisticRegression()\n",
    "\n",
    "# Train the model on the training data\n",
    "logistic_model.fit(X_train,y_train)"
   ]
  },
  {
   "cell_type": "code",
   "execution_count": 147,
   "id": "ad2f5172",
   "metadata": {},
   "outputs": [
    {
     "name": "stdout",
     "output_type": "stream",
     "text": [
      "Accuracy score :  0.8044692737430168\n"
     ]
    }
   ],
   "source": [
    "#make Predictions\n",
    "y_pred = logistic_model.predict(X_test)\n",
    "lr_accuracy = accuracy_score(y_pred,y_test)\n",
    "Accuracy_of_each_model[\"Logistic Regression\"]=lr_accuracy\n",
    "print(f\"Accuracy score : \",lr_accuracy)"
   ]
  },
  {
   "cell_type": "markdown",
   "id": "1af77431",
   "metadata": {},
   "source": [
    "# 2. KNeighbors Classifier"
   ]
  },
  {
   "cell_type": "code",
   "execution_count": 148,
   "id": "56a3d72f",
   "metadata": {},
   "outputs": [],
   "source": [
    "knc = KNeighborsClassifier(n_neighbors=2)"
   ]
  },
  {
   "cell_type": "code",
   "execution_count": 149,
   "id": "1e5e04e5",
   "metadata": {},
   "outputs": [
    {
     "data": {
      "text/html": [
       "<style>#sk-container-id-9 {color: black;}#sk-container-id-9 pre{padding: 0;}#sk-container-id-9 div.sk-toggleable {background-color: white;}#sk-container-id-9 label.sk-toggleable__label {cursor: pointer;display: block;width: 100%;margin-bottom: 0;padding: 0.3em;box-sizing: border-box;text-align: center;}#sk-container-id-9 label.sk-toggleable__label-arrow:before {content: \"▸\";float: left;margin-right: 0.25em;color: #696969;}#sk-container-id-9 label.sk-toggleable__label-arrow:hover:before {color: black;}#sk-container-id-9 div.sk-estimator:hover label.sk-toggleable__label-arrow:before {color: black;}#sk-container-id-9 div.sk-toggleable__content {max-height: 0;max-width: 0;overflow: hidden;text-align: left;background-color: #f0f8ff;}#sk-container-id-9 div.sk-toggleable__content pre {margin: 0.2em;color: black;border-radius: 0.25em;background-color: #f0f8ff;}#sk-container-id-9 input.sk-toggleable__control:checked~div.sk-toggleable__content {max-height: 200px;max-width: 100%;overflow: auto;}#sk-container-id-9 input.sk-toggleable__control:checked~label.sk-toggleable__label-arrow:before {content: \"▾\";}#sk-container-id-9 div.sk-estimator input.sk-toggleable__control:checked~label.sk-toggleable__label {background-color: #d4ebff;}#sk-container-id-9 div.sk-label input.sk-toggleable__control:checked~label.sk-toggleable__label {background-color: #d4ebff;}#sk-container-id-9 input.sk-hidden--visually {border: 0;clip: rect(1px 1px 1px 1px);clip: rect(1px, 1px, 1px, 1px);height: 1px;margin: -1px;overflow: hidden;padding: 0;position: absolute;width: 1px;}#sk-container-id-9 div.sk-estimator {font-family: monospace;background-color: #f0f8ff;border: 1px dotted black;border-radius: 0.25em;box-sizing: border-box;margin-bottom: 0.5em;}#sk-container-id-9 div.sk-estimator:hover {background-color: #d4ebff;}#sk-container-id-9 div.sk-parallel-item::after {content: \"\";width: 100%;border-bottom: 1px solid gray;flex-grow: 1;}#sk-container-id-9 div.sk-label:hover label.sk-toggleable__label {background-color: #d4ebff;}#sk-container-id-9 div.sk-serial::before {content: \"\";position: absolute;border-left: 1px solid gray;box-sizing: border-box;top: 0;bottom: 0;left: 50%;z-index: 0;}#sk-container-id-9 div.sk-serial {display: flex;flex-direction: column;align-items: center;background-color: white;padding-right: 0.2em;padding-left: 0.2em;position: relative;}#sk-container-id-9 div.sk-item {position: relative;z-index: 1;}#sk-container-id-9 div.sk-parallel {display: flex;align-items: stretch;justify-content: center;background-color: white;position: relative;}#sk-container-id-9 div.sk-item::before, #sk-container-id-9 div.sk-parallel-item::before {content: \"\";position: absolute;border-left: 1px solid gray;box-sizing: border-box;top: 0;bottom: 0;left: 50%;z-index: -1;}#sk-container-id-9 div.sk-parallel-item {display: flex;flex-direction: column;z-index: 1;position: relative;background-color: white;}#sk-container-id-9 div.sk-parallel-item:first-child::after {align-self: flex-end;width: 50%;}#sk-container-id-9 div.sk-parallel-item:last-child::after {align-self: flex-start;width: 50%;}#sk-container-id-9 div.sk-parallel-item:only-child::after {width: 0;}#sk-container-id-9 div.sk-dashed-wrapped {border: 1px dashed gray;margin: 0 0.4em 0.5em 0.4em;box-sizing: border-box;padding-bottom: 0.4em;background-color: white;}#sk-container-id-9 div.sk-label label {font-family: monospace;font-weight: bold;display: inline-block;line-height: 1.2em;}#sk-container-id-9 div.sk-label-container {text-align: center;}#sk-container-id-9 div.sk-container {/* jupyter's `normalize.less` sets `[hidden] { display: none; }` but bootstrap.min.css set `[hidden] { display: none !important; }` so we also need the `!important` here to be able to override the default hidden behavior on the sphinx rendered scikit-learn.org. See: https://github.com/scikit-learn/scikit-learn/issues/21755 */display: inline-block !important;position: relative;}#sk-container-id-9 div.sk-text-repr-fallback {display: none;}</style><div id=\"sk-container-id-9\" class=\"sk-top-container\"><div class=\"sk-text-repr-fallback\"><pre>KNeighborsClassifier(n_neighbors=2)</pre><b>In a Jupyter environment, please rerun this cell to show the HTML representation or trust the notebook. <br />On GitHub, the HTML representation is unable to render, please try loading this page with nbviewer.org.</b></div><div class=\"sk-container\" hidden><div class=\"sk-item\"><div class=\"sk-estimator sk-toggleable\"><input class=\"sk-toggleable__control sk-hidden--visually\" id=\"sk-estimator-id-9\" type=\"checkbox\" checked><label for=\"sk-estimator-id-9\" class=\"sk-toggleable__label sk-toggleable__label-arrow\">KNeighborsClassifier</label><div class=\"sk-toggleable__content\"><pre>KNeighborsClassifier(n_neighbors=2)</pre></div></div></div></div></div>"
      ],
      "text/plain": [
       "KNeighborsClassifier(n_neighbors=2)"
      ]
     },
     "execution_count": 149,
     "metadata": {},
     "output_type": "execute_result"
    }
   ],
   "source": [
    "knc.fit(X_train,y_train)"
   ]
  },
  {
   "cell_type": "code",
   "execution_count": 150,
   "id": "18d16b10",
   "metadata": {},
   "outputs": [
    {
     "name": "stdout",
     "output_type": "stream",
     "text": [
      "Accuracy score :  0.7039106145251397\n"
     ]
    }
   ],
   "source": [
    "ypred_knc = knc.predict(X_test)\n",
    "knc_accuracy = accuracy_score(ypred_knc,y_test)\n",
    "Accuracy_of_each_model[\"KNeighbor Classifier\"]=knc_accuracy\n",
    "print(f\"Accuracy score : \",knc_accuracy)"
   ]
  },
  {
   "cell_type": "markdown",
   "id": "3dfcb756",
   "metadata": {},
   "source": [
    "# 3. DecisionTree Classifier"
   ]
  },
  {
   "cell_type": "code",
   "execution_count": 140,
   "id": "27706996",
   "metadata": {},
   "outputs": [],
   "source": [
    "clf = DecisionTreeClassifier()"
   ]
  },
  {
   "cell_type": "code",
   "execution_count": 141,
   "id": "ff896b00",
   "metadata": {},
   "outputs": [
    {
     "name": "stdout",
     "output_type": "stream",
     "text": [
      "Best Parameters: {'criterion': 'gini'}\n",
      "Best Cross-Validation Score: 0.7570373288683148\n"
     ]
    }
   ],
   "source": [
    "# Define the hyperparameters and their values to search\n",
    "params = {'criterion': ['gini', 'entropy']}\n",
    "\n",
    "# Fit the GridSearchCV\n",
    "gsearch = GridSearchCV(estimator=clf,param_grid=params,cv=5)\n",
    "gsearch.fit(X_train,y_train)\n",
    "\n",
    "# Get the best parameters and best score\n",
    "best_params = gsearch.best_params_\n",
    "best_score = gsearch.best_score_\n",
    "\n",
    "\n",
    "print(\"Best Parameters:\", best_params)\n",
    "print(\"Best Cross-Validation Score:\", best_score)"
   ]
  },
  {
   "cell_type": "code",
   "execution_count": 144,
   "id": "666eafcc",
   "metadata": {},
   "outputs": [],
   "source": [
    "model = DecisionTreeClassifier(criterion=\"gini\")"
   ]
  },
  {
   "cell_type": "code",
   "execution_count": 151,
   "id": "fb90b420",
   "metadata": {},
   "outputs": [
    {
     "name": "stdout",
     "output_type": "stream",
     "text": [
      "Accuracy score :  0.776536312849162\n"
     ]
    }
   ],
   "source": [
    "model.fit(X_train,y_train)\n",
    "ypred_clf = model.predict(X_test) \n",
    "clf_accuracy = accuracy_score(ypred_clf,y_test)\n",
    "Accuracy_of_each_model[\"Decesiontree Classifier\"]=clf_accuracy\n",
    "print(f\"Accuracy score : \",clf_accuracy)"
   ]
  },
  {
   "cell_type": "markdown",
   "id": "cbc1ef76",
   "metadata": {},
   "source": [
    "# 4. Random Forest Classifier"
   ]
  },
  {
   "cell_type": "code",
   "execution_count": 154,
   "id": "1e3f06e4",
   "metadata": {},
   "outputs": [],
   "source": [
    "rfc = RandomForestClassifier()"
   ]
  },
  {
   "cell_type": "code",
   "execution_count": 155,
   "id": "333f7f5b",
   "metadata": {},
   "outputs": [
    {
     "name": "stdout",
     "output_type": "stream",
     "text": [
      "Best Parameters: {'criterion': 'gini', 'n_estimators': 200}\n",
      "Best Cross-Validation Score: 0.7949571555205358\n"
     ]
    }
   ],
   "source": [
    "params = {\"n_estimators\" : [100,200,400,500],\n",
    "         \"criterion\" : [\"gini\", \"entropy\"]}\n",
    "\n",
    "gsearch = GridSearchCV(estimator=rfc,param_grid=params,cv=5)\n",
    "gsearch.fit(X_train,y_train)\n",
    "\n",
    "# Get the best parameters and best score\n",
    "best_params = gsearch.best_params_\n",
    "best_score = gsearch.best_score_\n",
    "\n",
    "\n",
    "print(\"Best Parameters:\", best_params)\n",
    "print(\"Best Cross-Validation Score:\", best_score)"
   ]
  },
  {
   "cell_type": "code",
   "execution_count": 156,
   "id": "ad885b5a",
   "metadata": {},
   "outputs": [
    {
     "name": "stdout",
     "output_type": "stream",
     "text": [
      "Accuracy score :  0.8156424581005587\n"
     ]
    }
   ],
   "source": [
    "model = RandomForestClassifier(criterion= 'gini', n_estimators = 200)\n",
    "model.fit(X_train,y_train)\n",
    "ypred_rfc = model.predict(X_test)\n",
    "rfc_accuracy = accuracy_score(ypred_rfc,y_test)\n",
    "Accuracy_of_each_model[\"Randomforest Classifier\"]=rfc_accuracy\n",
    "print(f\"Accuracy score : \",rfc_accuracy)"
   ]
  },
  {
   "cell_type": "markdown",
   "id": "a62a5a54",
   "metadata": {},
   "source": [
    "# 5. ExtraTrees Classifier"
   ]
  },
  {
   "cell_type": "code",
   "execution_count": 158,
   "id": "b1a748ea",
   "metadata": {},
   "outputs": [],
   "source": [
    "extc = ExtraTreesClassifier()"
   ]
  },
  {
   "cell_type": "code",
   "execution_count": 160,
   "id": "71866d7c",
   "metadata": {},
   "outputs": [
    {
     "name": "stdout",
     "output_type": "stream",
     "text": [
      "Best Parameters: {'criterion': 'gini', 'n_estimators': 400}\n",
      "Best Cross-Validation Score: 0.7851176992022063\n"
     ]
    }
   ],
   "source": [
    "params = {\"n_estimators\" : [100,200,400,500],\n",
    "         \"criterion\" : [\"gini\", \"entropy\"]}\n",
    "\n",
    "gsearch = GridSearchCV(estimator=extc,param_grid=params,cv=5)\n",
    "gsearch.fit(X_train,y_train)\n",
    "\n",
    "# Get the best parameters and best score\n",
    "best_params = gsearch.best_params_\n",
    "best_score = gsearch.best_score_\n",
    "\n",
    "\n",
    "print(\"Best Parameters:\", best_params)\n",
    "print(\"Best Cross-Validation Score:\", best_score)"
   ]
  },
  {
   "cell_type": "code",
   "execution_count": 161,
   "id": "eb045184",
   "metadata": {},
   "outputs": [
    {
     "name": "stdout",
     "output_type": "stream",
     "text": [
      "Accuracy score :  0.7988826815642458\n"
     ]
    }
   ],
   "source": [
    "model = ExtraTreesClassifier(criterion= 'gini', n_estimators = 400)\n",
    "model.fit(X_train,y_train)\n",
    "ypred_extc = model.predict(X_test)\n",
    "extc_accuracy = accuracy_score(ypred_extc,y_test)\n",
    "Accuracy_of_each_model[\"Extratrees Classifier\"]=extc_accuracy\n",
    "print(f\"Accuracy score : \",extc_accuracy)"
   ]
  },
  {
   "cell_type": "markdown",
   "id": "2e3c38b7",
   "metadata": {},
   "source": [
    "# 6. Voting Classifier"
   ]
  },
  {
   "cell_type": "code",
   "execution_count": 163,
   "id": "9d6604af",
   "metadata": {},
   "outputs": [
    {
     "name": "stdout",
     "output_type": "stream",
     "text": [
      "Accuracy score :  0.8268156424581006\n"
     ]
    },
    {
     "name": "stderr",
     "output_type": "stream",
     "text": [
      "C:\\Users\\user\\anaconda3\\Lib\\site-packages\\sklearn\\linear_model\\_logistic.py:460: ConvergenceWarning: lbfgs failed to converge (status=1):\n",
      "STOP: TOTAL NO. of ITERATIONS REACHED LIMIT.\n",
      "\n",
      "Increase the number of iterations (max_iter) or scale the data as shown in:\n",
      "    https://scikit-learn.org/stable/modules/preprocessing.html\n",
      "Please also refer to the documentation for alternative solver options:\n",
      "    https://scikit-learn.org/stable/modules/linear_model.html#logistic-regression\n",
      "  n_iter_i = _check_optimize_result(\n"
     ]
    }
   ],
   "source": [
    "classifier1 = DecisionTreeClassifier(random_state=42)\n",
    "classifier2 = SVC(probability=True,random_state=42)\n",
    "classifier3 = LogisticRegression(random_state=42)\n",
    "\n",
    "voting_clf = VotingClassifier(estimators=[(\"DT\",classifier1),\n",
    "                                          (\"SVC\",classifier2),\n",
    "                                          (\"LR\",classifier3)],\n",
    "                             voting=\"soft\")\n",
    "\n",
    "voting_clf.fit(X_train,y_train)\n",
    "ypred_vot = voting_clf.predict(X_test)\n",
    "vot_accuracy = accuracy_score(ypred_vot,y_test)\n",
    "Accuracy_of_each_model[\"Voting Classifier\"]=vot_accuracy\n",
    "print(f\"Accuracy score : \",vot_accuracy)"
   ]
  },
  {
   "cell_type": "markdown",
   "id": "5dc60aa8",
   "metadata": {},
   "source": [
    "# 7. Support Vector Classifier"
   ]
  },
  {
   "cell_type": "code",
   "execution_count": 165,
   "id": "8bc8f643",
   "metadata": {},
   "outputs": [],
   "source": [
    "svc = SVC()"
   ]
  },
  {
   "cell_type": "code",
   "execution_count": 166,
   "id": "e2119c79",
   "metadata": {},
   "outputs": [
    {
     "name": "stdout",
     "output_type": "stream",
     "text": [
      "Best Parameters: {'C': 0.5, 'kernel': 'linear'}\n",
      "Best Cross-Validation Score: 0.7865261499064315\n"
     ]
    }
   ],
   "source": [
    "params = {\"C\" : [0.5,1,1.5],\n",
    "          \"kernel\":['linear', 'poly', 'rbf', 'sigmoid']}\n",
    "\n",
    "gsearch = GridSearchCV(estimator=svc,param_grid=params,cv=5)\n",
    "gsearch.fit(X_train,y_train)\n",
    "\n",
    "# Get the best parameters and best score\n",
    "best_params = gsearch.best_params_\n",
    "best_score = gsearch.best_score_\n",
    "\n",
    "\n",
    "print(\"Best Parameters:\", best_params)\n",
    "print(\"Best Cross-Validation Score:\", best_score)"
   ]
  },
  {
   "cell_type": "code",
   "execution_count": 169,
   "id": "c3b54e19",
   "metadata": {},
   "outputs": [
    {
     "name": "stdout",
     "output_type": "stream",
     "text": [
      "Accuracy score :  0.7877094972067039\n"
     ]
    }
   ],
   "source": [
    "model = SVC(C=0.5,kernel=\"linear\")\n",
    "model.fit(X_train,y_train)\n",
    "ypred_svc = model.predict(X_test)\n",
    "svc_accuracy = accuracy_score(ypred_svc,y_test)\n",
    "Accuracy_of_each_model[\"SupportVector Classifier\"]=svc_accuracy\n",
    "print(f\"Accuracy score : \",svc_accuracy)"
   ]
  },
  {
   "cell_type": "markdown",
   "id": "27490f42",
   "metadata": {},
   "source": [
    "# Deep Learning Implementations"
   ]
  },
  {
   "cell_type": "code",
   "execution_count": 172,
   "id": "b26f8e1a",
   "metadata": {},
   "outputs": [],
   "source": [
    "import tensorflow as tf\n",
    "from keras.layers import Dense\n",
    "from keras.models import Sequential"
   ]
  },
  {
   "cell_type": "markdown",
   "id": "20e319c3",
   "metadata": {},
   "source": [
    "## Create Nueral Network"
   ]
  },
  {
   "cell_type": "code",
   "execution_count": 214,
   "id": "3a785364",
   "metadata": {},
   "outputs": [],
   "source": [
    "model = Sequential()\n",
    "model.add(Dense(32,activation=\"relu\",input_shape=(X.shape[1],)))\n",
    "model.add(Dense(32,activation=\"relu\"))\n",
    "model.add(Dense(1,activation=\"sigmoid\"))"
   ]
  },
  {
   "cell_type": "markdown",
   "id": "93e13e0a",
   "metadata": {},
   "source": [
    "## Optimize the Nueral Network"
   ]
  },
  {
   "cell_type": "code",
   "execution_count": 215,
   "id": "cfd0352e",
   "metadata": {},
   "outputs": [],
   "source": [
    "model.compile(optimizer='adam',loss='binary_crossentropy',metrics=['accuracy'])"
   ]
  },
  {
   "cell_type": "markdown",
   "id": "19180ed0",
   "metadata": {},
   "source": [
    "## Train the Nueral Network"
   ]
  },
  {
   "cell_type": "code",
   "execution_count": 216,
   "id": "3e059bf5",
   "metadata": {},
   "outputs": [
    {
     "name": "stdout",
     "output_type": "stream",
     "text": [
      "Epoch 1/80\n",
      "23/23 [==============================] - 1s 2ms/step - loss: 2.0139 - accuracy: 0.4157\n",
      "Epoch 2/80\n",
      "23/23 [==============================] - 0s 2ms/step - loss: 0.7662 - accuracy: 0.6447\n",
      "Epoch 3/80\n",
      "23/23 [==============================] - 0s 2ms/step - loss: 0.6681 - accuracy: 0.6292\n",
      "Epoch 4/80\n",
      "23/23 [==============================] - 0s 2ms/step - loss: 0.6677 - accuracy: 0.6250\n",
      "Epoch 5/80\n",
      "23/23 [==============================] - 0s 2ms/step - loss: 0.6250 - accuracy: 0.6615\n",
      "Epoch 6/80\n",
      "23/23 [==============================] - 0s 2ms/step - loss: 0.6243 - accuracy: 0.6629\n",
      "Epoch 7/80\n",
      "23/23 [==============================] - 0s 2ms/step - loss: 0.6129 - accuracy: 0.6854\n",
      "Epoch 8/80\n",
      "23/23 [==============================] - 0s 2ms/step - loss: 0.6130 - accuracy: 0.6643\n",
      "Epoch 9/80\n",
      "23/23 [==============================] - 0s 2ms/step - loss: 0.6039 - accuracy: 0.6980\n",
      "Epoch 10/80\n",
      "23/23 [==============================] - 0s 2ms/step - loss: 0.5931 - accuracy: 0.7051\n",
      "Epoch 11/80\n",
      "23/23 [==============================] - 0s 2ms/step - loss: 0.5819 - accuracy: 0.6980\n",
      "Epoch 12/80\n",
      "23/23 [==============================] - 0s 2ms/step - loss: 0.5806 - accuracy: 0.7093\n",
      "Epoch 13/80\n",
      "23/23 [==============================] - 0s 2ms/step - loss: 0.6095 - accuracy: 0.6840\n",
      "Epoch 14/80\n",
      "23/23 [==============================] - 0s 2ms/step - loss: 0.5732 - accuracy: 0.7037\n",
      "Epoch 15/80\n",
      "23/23 [==============================] - 0s 2ms/step - loss: 0.5606 - accuracy: 0.7065\n",
      "Epoch 16/80\n",
      "23/23 [==============================] - 0s 2ms/step - loss: 0.5633 - accuracy: 0.7008\n",
      "Epoch 17/80\n",
      "23/23 [==============================] - 0s 2ms/step - loss: 0.5537 - accuracy: 0.7149\n",
      "Epoch 18/80\n",
      "23/23 [==============================] - 0s 2ms/step - loss: 0.5513 - accuracy: 0.7205\n",
      "Epoch 19/80\n",
      "23/23 [==============================] - 0s 2ms/step - loss: 0.5465 - accuracy: 0.7107\n",
      "Epoch 20/80\n",
      "23/23 [==============================] - 0s 2ms/step - loss: 0.6070 - accuracy: 0.6966\n",
      "Epoch 21/80\n",
      "23/23 [==============================] - 0s 2ms/step - loss: 0.5419 - accuracy: 0.7317\n",
      "Epoch 22/80\n",
      "23/23 [==============================] - 0s 2ms/step - loss: 0.5704 - accuracy: 0.6882\n",
      "Epoch 23/80\n",
      "23/23 [==============================] - 0s 2ms/step - loss: 0.5371 - accuracy: 0.7430\n",
      "Epoch 24/80\n",
      "23/23 [==============================] - 0s 2ms/step - loss: 0.5184 - accuracy: 0.7542\n",
      "Epoch 25/80\n",
      "23/23 [==============================] - 0s 2ms/step - loss: 0.5312 - accuracy: 0.7303\n",
      "Epoch 26/80\n",
      "23/23 [==============================] - 0s 2ms/step - loss: 0.5303 - accuracy: 0.7416\n",
      "Epoch 27/80\n",
      "23/23 [==============================] - 0s 2ms/step - loss: 0.5107 - accuracy: 0.7753\n",
      "Epoch 28/80\n",
      "23/23 [==============================] - 0s 2ms/step - loss: 0.5179 - accuracy: 0.7654\n",
      "Epoch 29/80\n",
      "23/23 [==============================] - 0s 2ms/step - loss: 0.5083 - accuracy: 0.7584\n",
      "Epoch 30/80\n",
      "23/23 [==============================] - 0s 2ms/step - loss: 0.5158 - accuracy: 0.7683\n",
      "Epoch 31/80\n",
      "23/23 [==============================] - 0s 2ms/step - loss: 0.5075 - accuracy: 0.7528\n",
      "Epoch 32/80\n",
      "23/23 [==============================] - 0s 2ms/step - loss: 0.4974 - accuracy: 0.7879\n",
      "Epoch 33/80\n",
      "23/23 [==============================] - 0s 2ms/step - loss: 0.4900 - accuracy: 0.7851\n",
      "Epoch 34/80\n",
      "23/23 [==============================] - 0s 2ms/step - loss: 0.4894 - accuracy: 0.7879\n",
      "Epoch 35/80\n",
      "23/23 [==============================] - 0s 2ms/step - loss: 0.4859 - accuracy: 0.7949\n",
      "Epoch 36/80\n",
      "23/23 [==============================] - 0s 2ms/step - loss: 0.4929 - accuracy: 0.7879\n",
      "Epoch 37/80\n",
      "23/23 [==============================] - 0s 2ms/step - loss: 0.4925 - accuracy: 0.7893\n",
      "Epoch 38/80\n",
      "23/23 [==============================] - 0s 2ms/step - loss: 0.5007 - accuracy: 0.7767\n",
      "Epoch 39/80\n",
      "23/23 [==============================] - 0s 2ms/step - loss: 0.5058 - accuracy: 0.7921\n",
      "Epoch 40/80\n",
      "23/23 [==============================] - 0s 2ms/step - loss: 0.4982 - accuracy: 0.7767\n",
      "Epoch 41/80\n",
      "23/23 [==============================] - 0s 2ms/step - loss: 0.4753 - accuracy: 0.7921\n",
      "Epoch 42/80\n",
      "23/23 [==============================] - 0s 2ms/step - loss: 0.4935 - accuracy: 0.7781\n",
      "Epoch 43/80\n",
      "23/23 [==============================] - 0s 2ms/step - loss: 0.4944 - accuracy: 0.7711\n",
      "Epoch 44/80\n",
      "23/23 [==============================] - 0s 2ms/step - loss: 0.4817 - accuracy: 0.7865\n",
      "Epoch 45/80\n",
      "23/23 [==============================] - 0s 2ms/step - loss: 0.4862 - accuracy: 0.7935\n",
      "Epoch 46/80\n",
      "23/23 [==============================] - 0s 2ms/step - loss: 0.4738 - accuracy: 0.8062\n",
      "Epoch 47/80\n",
      "23/23 [==============================] - 0s 2ms/step - loss: 0.4819 - accuracy: 0.7879\n",
      "Epoch 48/80\n",
      "23/23 [==============================] - 0s 2ms/step - loss: 0.4674 - accuracy: 0.8048\n",
      "Epoch 49/80\n",
      "23/23 [==============================] - 0s 2ms/step - loss: 0.4662 - accuracy: 0.7992\n",
      "Epoch 50/80\n",
      "23/23 [==============================] - 0s 2ms/step - loss: 0.4604 - accuracy: 0.8062\n",
      "Epoch 51/80\n",
      "23/23 [==============================] - 0s 2ms/step - loss: 0.4601 - accuracy: 0.8048\n",
      "Epoch 52/80\n",
      "23/23 [==============================] - 0s 2ms/step - loss: 0.4685 - accuracy: 0.7978\n",
      "Epoch 53/80\n",
      "23/23 [==============================] - 0s 2ms/step - loss: 0.4629 - accuracy: 0.8020\n",
      "Epoch 54/80\n",
      "23/23 [==============================] - 0s 2ms/step - loss: 0.4538 - accuracy: 0.8104\n",
      "Epoch 55/80\n",
      "23/23 [==============================] - 0s 2ms/step - loss: 0.4637 - accuracy: 0.7978\n",
      "Epoch 56/80\n",
      "23/23 [==============================] - 0s 2ms/step - loss: 0.4523 - accuracy: 0.8076\n",
      "Epoch 57/80\n",
      "23/23 [==============================] - 0s 2ms/step - loss: 0.4841 - accuracy: 0.7781\n",
      "Epoch 58/80\n",
      "23/23 [==============================] - 0s 2ms/step - loss: 0.4522 - accuracy: 0.8160\n",
      "Epoch 59/80\n",
      "23/23 [==============================] - 0s 2ms/step - loss: 0.4490 - accuracy: 0.8090\n",
      "Epoch 60/80\n",
      "23/23 [==============================] - 0s 2ms/step - loss: 0.4547 - accuracy: 0.8146\n",
      "Epoch 61/80\n",
      "23/23 [==============================] - 0s 2ms/step - loss: 0.4469 - accuracy: 0.8118\n",
      "Epoch 62/80\n",
      "23/23 [==============================] - 0s 2ms/step - loss: 0.4520 - accuracy: 0.8090\n",
      "Epoch 63/80\n",
      "23/23 [==============================] - 0s 2ms/step - loss: 0.4465 - accuracy: 0.8132\n",
      "Epoch 64/80\n",
      "23/23 [==============================] - 0s 2ms/step - loss: 0.4497 - accuracy: 0.8132\n",
      "Epoch 65/80\n",
      "23/23 [==============================] - 0s 2ms/step - loss: 0.4539 - accuracy: 0.8034\n",
      "Epoch 66/80\n",
      "23/23 [==============================] - 0s 2ms/step - loss: 0.4669 - accuracy: 0.8006\n",
      "Epoch 67/80\n",
      "23/23 [==============================] - 0s 2ms/step - loss: 0.4477 - accuracy: 0.8062\n",
      "Epoch 68/80\n",
      "23/23 [==============================] - 0s 2ms/step - loss: 0.4686 - accuracy: 0.7907\n",
      "Epoch 69/80\n",
      "23/23 [==============================] - 0s 2ms/step - loss: 0.4489 - accuracy: 0.8048\n",
      "Epoch 70/80\n",
      "23/23 [==============================] - 0s 2ms/step - loss: 0.4523 - accuracy: 0.7992\n",
      "Epoch 71/80\n",
      "23/23 [==============================] - 0s 2ms/step - loss: 0.4508 - accuracy: 0.7992\n",
      "Epoch 72/80\n",
      "23/23 [==============================] - 0s 2ms/step - loss: 0.4422 - accuracy: 0.8048\n",
      "Epoch 73/80\n",
      "23/23 [==============================] - 0s 2ms/step - loss: 0.4526 - accuracy: 0.7992\n",
      "Epoch 74/80\n",
      "23/23 [==============================] - 0s 2ms/step - loss: 0.4514 - accuracy: 0.8062\n",
      "Epoch 75/80\n",
      "23/23 [==============================] - 0s 2ms/step - loss: 0.4434 - accuracy: 0.8132\n",
      "Epoch 76/80\n",
      "23/23 [==============================] - 0s 2ms/step - loss: 0.4583 - accuracy: 0.8174\n",
      "Epoch 77/80\n",
      "23/23 [==============================] - 0s 2ms/step - loss: 0.4503 - accuracy: 0.8062\n",
      "Epoch 78/80\n",
      "23/23 [==============================] - 0s 2ms/step - loss: 0.4450 - accuracy: 0.8104\n",
      "Epoch 79/80\n",
      "23/23 [==============================] - 0s 2ms/step - loss: 0.4390 - accuracy: 0.8202\n",
      "Epoch 80/80\n",
      "23/23 [==============================] - 0s 2ms/step - loss: 0.4384 - accuracy: 0.8174\n"
     ]
    },
    {
     "data": {
      "text/plain": [
       "<keras.src.callbacks.History at 0x1914acf6a50>"
      ]
     },
     "execution_count": 216,
     "metadata": {},
     "output_type": "execute_result"
    }
   ],
   "source": [
    "model.fit(X_train,y_train,epochs=80,validation_batch_size=0.2)"
   ]
  },
  {
   "cell_type": "code",
   "execution_count": 217,
   "id": "8616aef2",
   "metadata": {},
   "outputs": [
    {
     "name": "stdout",
     "output_type": "stream",
     "text": [
      "6/6 [==============================] - 0s 2ms/step - loss: 0.4766 - accuracy: 0.7654\n",
      "Test loss: 0.47655487060546875\n",
      "Test accuracy: 0.7653631567955017\n"
     ]
    }
   ],
   "source": [
    "# Evaluate the model on the test set\n",
    "loss, accuracy = model.evaluate(X_test, y_test)\n",
    "print('Test loss:', loss)\n",
    "print('Test accuracy:', accuracy)"
   ]
  },
  {
   "cell_type": "code",
   "execution_count": 218,
   "id": "609369a7",
   "metadata": {},
   "outputs": [],
   "source": [
    "Accuracy_of_each_model[\"Nueral Network\"]=accuracy"
   ]
  },
  {
   "cell_type": "code",
   "execution_count": 219,
   "id": "76393bf4",
   "metadata": {},
   "outputs": [
    {
     "data": {
      "text/html": [
       "<div>\n",
       "<style scoped>\n",
       "    .dataframe tbody tr th:only-of-type {\n",
       "        vertical-align: middle;\n",
       "    }\n",
       "\n",
       "    .dataframe tbody tr th {\n",
       "        vertical-align: top;\n",
       "    }\n",
       "\n",
       "    .dataframe thead th {\n",
       "        text-align: right;\n",
       "    }\n",
       "</style>\n",
       "<table border=\"1\" class=\"dataframe\">\n",
       "  <thead>\n",
       "    <tr style=\"text-align: right;\">\n",
       "      <th></th>\n",
       "      <th>Accuracy Score</th>\n",
       "    </tr>\n",
       "  </thead>\n",
       "  <tbody>\n",
       "    <tr>\n",
       "      <th>Logistic Regression</th>\n",
       "      <td>0.804469</td>\n",
       "    </tr>\n",
       "    <tr>\n",
       "      <th>KNeighbor Classifier</th>\n",
       "      <td>0.703911</td>\n",
       "    </tr>\n",
       "    <tr>\n",
       "      <th>Decesiontree Classifier</th>\n",
       "      <td>0.776536</td>\n",
       "    </tr>\n",
       "    <tr>\n",
       "      <th>Randomforest Classifier</th>\n",
       "      <td>0.815642</td>\n",
       "    </tr>\n",
       "    <tr>\n",
       "      <th>Extratrees Classifier</th>\n",
       "      <td>0.798883</td>\n",
       "    </tr>\n",
       "    <tr>\n",
       "      <th>Voting Classifier</th>\n",
       "      <td>0.826816</td>\n",
       "    </tr>\n",
       "    <tr>\n",
       "      <th>SupportVector Classifier</th>\n",
       "      <td>0.787709</td>\n",
       "    </tr>\n",
       "    <tr>\n",
       "      <th>Nueral Network</th>\n",
       "      <td>0.765363</td>\n",
       "    </tr>\n",
       "  </tbody>\n",
       "</table>\n",
       "</div>"
      ],
      "text/plain": [
       "                          Accuracy Score\n",
       "Logistic Regression             0.804469\n",
       "KNeighbor Classifier            0.703911\n",
       "Decesiontree Classifier         0.776536\n",
       "Randomforest Classifier         0.815642\n",
       "Extratrees Classifier           0.798883\n",
       "Voting Classifier               0.826816\n",
       "SupportVector Classifier        0.787709\n",
       "Nueral Network                  0.765363"
      ]
     },
     "execution_count": 219,
     "metadata": {},
     "output_type": "execute_result"
    }
   ],
   "source": [
    "df = pd.DataFrame(Accuracy_of_each_model,index=[\"Accuracy Score\"])\n",
    "df_vertical = df.T\n",
    "df_vertical"
   ]
  },
  {
   "cell_type": "markdown",
   "id": "8f6964b1",
   "metadata": {},
   "source": [
    "Loss Functions\n",
    "\n",
    "\"mean_squared_error\" (MSE) / L2 Loss: Used for regression problems.\n",
    "\n",
    "\"mean_absolute_error\" (MAE) / L1 Loss: Also used for regression problems.\n",
    "\n",
    "\"binary_crossentropy\" Loss (Log Loss): Used for binary classification problems.\n",
    "\n",
    "\"categorical_crossentropy\" Loss: Used for multi-class classification problems.\n",
    "\n",
    "\"sparse_categorical_crossentropy\" Loss: Similar to categorical cross-entropy but used when the target labels are integers (not one-hot encoded).\n"
   ]
  }
 ],
 "metadata": {
  "kernelspec": {
   "display_name": "Python 3 (ipykernel)",
   "language": "python",
   "name": "python3"
  },
  "language_info": {
   "codemirror_mode": {
    "name": "ipython",
    "version": 3
   },
   "file_extension": ".py",
   "mimetype": "text/x-python",
   "name": "python",
   "nbconvert_exporter": "python",
   "pygments_lexer": "ipython3",
   "version": "3.11.5"
  }
 },
 "nbformat": 4,
 "nbformat_minor": 5
}
